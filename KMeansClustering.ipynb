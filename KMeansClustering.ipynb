{
 "cells": [
  {
   "cell_type": "code",
   "execution_count": 1,
   "id": "6bacc065",
   "metadata": {},
   "outputs": [
    {
     "name": "stdout",
     "output_type": "stream",
     "text": [
      "------\n",
      "[[2.5 2.5]\n",
      " [6.5 5. ]]\n"
     ]
    }
   ],
   "source": [
    "import numpy as np\n",
    "np.random.seed(42)\n",
    "\n",
    "points = np.array([[1, 1], [2, 4], [3, 2], [4, 3], [5, 5], [6, 2], [7, 7], [8, 6]])\n",
    "n = len(points)\n",
    "k = 2\n",
    "centroids = np.array([points[0], points[1]], dtype=\"float\")\n",
    "while(True):\n",
    "  old_centroids = [[*centroid] for centroid in centroids]\n",
    "  euclid_dist = np.array([np.linalg.norm(point - centroid) for point in points for centroid in centroids ]).reshape(n,k)\n",
    "  membership_mtx = np.zeros((n,k))\n",
    "  for i in range(n):\n",
    "    min_idx = np.argmin(euclid_dist[i])\n",
    "    membership_mtx[i][min_idx] = 1\n",
    "  for i in range(k):\n",
    "    index_1 = np.argwhere(membership_mtx[:, i])\n",
    "    temp_list = np.array([points[each[0]] for each in index_1])\n",
    "    centroids[i][0] = np.average(temp_list[:, 0])\n",
    "    centroids[i][1] = np.average(temp_list[:, 1])\n",
    "\n",
    "  if (old_centroids == centroids).all():\n",
    "      break\n",
    "\n",
    "print(\"------\")\n",
    "print(centroids)"
   ]
  },
  {
   "cell_type": "code",
   "execution_count": null,
   "id": "a328bedc",
   "metadata": {},
   "outputs": [],
   "source": []
  }
 ],
 "metadata": {
  "kernelspec": {
   "display_name": "Python 3 (ipykernel)",
   "language": "python",
   "name": "python3"
  },
  "language_info": {
   "codemirror_mode": {
    "name": "ipython",
    "version": 3
   },
   "file_extension": ".py",
   "mimetype": "text/x-python",
   "name": "python",
   "nbconvert_exporter": "python",
   "pygments_lexer": "ipython3",
   "version": "3.9.13"
  }
 },
 "nbformat": 4,
 "nbformat_minor": 5
}
