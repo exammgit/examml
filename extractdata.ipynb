{
 "cells": [
  {
   "cell_type": "code",
   "execution_count": 1,
   "id": "faafc5e2",
   "metadata": {},
   "outputs": [
    {
     "name": "stdout",
     "output_type": "stream",
     "text": [
      "data base connected\n",
      "data base created \n"
     ]
    }
   ],
   "source": [
    "import mysql.connector\n",
    "mydb = mysql.connector.connect(\n",
    "  host=\"localhost\",\n",
    "  user=\"root\",\n",
    "  passwd=\"\")\n",
    "print(\"data base connected\") \n",
    "mycursor=mydb.cursor()\n",
    "mycursor.execute(\"CREATE DATABASE csm1\")\n",
    "print(\"data base created \")"
   ]
  },
  {
   "cell_type": "code",
   "execution_count": 2,
   "id": "4207074b",
   "metadata": {},
   "outputs": [
    {
     "name": "stdout",
     "output_type": "stream",
     "text": [
      "data base connected\n",
      "TABLE created \n"
     ]
    }
   ],
   "source": [
    "import mysql.connector\n",
    "mydb = mysql.connector.connect(\n",
    "  host=\"localhost\",\n",
    "  user=\"root\",\n",
    "  passwd=\"\",database=\"csm1\")\n",
    "print(\"data base connected\") \n",
    "mycursor=mydb.cursor()\n",
    "mycursor.execute(\"CREATE TABLE MGITCSD(NO INT(20),NAME VARCHAR(20))\")\n",
    "print(\"TABLE created \")"
   ]
  },
  {
   "cell_type": "code",
   "execution_count": 6,
   "id": "43cf23e8",
   "metadata": {},
   "outputs": [
    {
     "name": "stdout",
     "output_type": "stream",
     "text": [
      "data base connected\n",
      "enter no503\n",
      "enter nameCCC\n",
      "row created \n"
     ]
    }
   ],
   "source": [
    "import mysql.connector\n",
    "mydb = mysql.connector.connect(\n",
    "  host=\"localhost\",\n",
    "  user=\"root\",\n",
    "  passwd=\"\",database=\"csm1\")\n",
    "print(\"data base connected\") \n",
    "no=int(input(\"enter no\"))\n",
    "name=input(\"enter name\")\n",
    "mycursor=mydb.cursor()\n",
    "sql=\"INSERT INTO mgitcsd (NO, NAME) VALUES (%s,%s)\"\n",
    "record=(no,name)\n",
    "mycursor.execute(sql,record)\n",
    "print(\"row created \")\n",
    "mydb.commit()"
   ]
  },
  {
   "cell_type": "code",
   "execution_count": 7,
   "id": "1d0d6c0a",
   "metadata": {},
   "outputs": [
    {
     "name": "stdout",
     "output_type": "stream",
     "text": [
      "data base connected\n",
      "(501, 'AAA')\n",
      "(502, 'BBB')\n",
      "(503, 'CCC')\n"
     ]
    }
   ],
   "source": [
    "import mysql.connector\n",
    "mydb = mysql.connector.connect(\n",
    "  host=\"localhost\",\n",
    "  user=\"root\",\n",
    "  passwd=\"\",database=\"csm1\")\n",
    "print(\"data base connected\") \n",
    "mycursor=mydb.cursor()\n",
    "mycursor.execute(\"SELECT * FROM mgitcsd\")\n",
    "myresult=mycursor.fetchall()\n",
    "for row in myresult:\n",
    "    print(row)"
   ]
  },
  {
   "cell_type": "code",
   "execution_count": 8,
   "id": "7ee92ea5",
   "metadata": {},
   "outputs": [
    {
     "name": "stdout",
     "output_type": "stream",
     "text": [
      "data base connected\n",
      "row updated\n"
     ]
    }
   ],
   "source": [
    "import mysql.connector\n",
    "mydb = mysql.connector.connect(\n",
    "  host=\"localhost\",\n",
    "  user=\"root\",\n",
    "  passwd=\"\",database=\"csm1\")\n",
    "print(\"data base connected\") \n",
    "mycursor=mydb.cursor()\n",
    "mycursor.execute(\"Update mgitcsd set no = 7000 where name = 'AAA'\")\n",
    "print(\"row updated\")\n",
    "mydb.commit()"
   ]
  },
  {
   "cell_type": "code",
   "execution_count": null,
   "id": "3c389f86",
   "metadata": {},
   "outputs": [],
   "source": []
  }
 ],
 "metadata": {
  "kernelspec": {
   "display_name": "Python 3 (ipykernel)",
   "language": "python",
   "name": "python3"
  },
  "language_info": {
   "codemirror_mode": {
    "name": "ipython",
    "version": 3
   },
   "file_extension": ".py",
   "mimetype": "text/x-python",
   "name": "python",
   "nbconvert_exporter": "python",
   "pygments_lexer": "ipython3",
   "version": "3.10.10"
  }
 },
 "nbformat": 4,
 "nbformat_minor": 5
}
